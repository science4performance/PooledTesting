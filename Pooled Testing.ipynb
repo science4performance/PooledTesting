{
 "cells": [
  {
   "cell_type": "markdown",
   "metadata": {},
   "source": [
    "# Pooled testing\n",
    "This is an application of pooled testing to COVID-19. For further details refer to my blog\n",
    "## Sources\n",
    "- BBC podcast https://www.bbc.co.uk/sounds/play/w3cszh0k\n",
    "- The paper https://arxiv.org/pdf/2004.14934.pdf"
   ]
  },
  {
   "cell_type": "code",
   "execution_count": 1,
   "metadata": {},
   "outputs": [],
   "source": [
    "import numpy as np\n",
    "from tqdm import tqdm"
   ]
  },
  {
   "cell_type": "markdown",
   "metadata": {},
   "source": [
    "- Set n, number of tests,\n",
    "- p, estimated prevelance of virus in the population\n",
    "- m number infected in sample of n, expected value n*p"
   ]
  },
  {
   "cell_type": "code",
   "execution_count": 2,
   "metadata": {},
   "outputs": [],
   "source": [
    "n = int(1e6)\n",
    "p = 1e-4\n",
    "m = int(n*p)"
   ]
  },
  {
   "cell_type": "markdown",
   "metadata": {},
   "source": [
    "Randomly set the status m out of n samples to be 1, i.e. infected"
   ]
  },
  {
   "cell_type": "markdown",
   "metadata": {},
   "source": [
    "## Prepare run - create a random sample and set up parameters\n",
    "- Generate a random sample\n",
    "- Optimal group size, Nopt, is 0.35/p\n",
    "- expected number of tests T per person ≈ ep ln(0.734/p)\n",
    "- Using L=3 as and approximation of e for the optimal number of lattice points, L.\n",
    "- Choose N to be closest power of 3 to optimal\n",
    "- Pad the samples to the next multiple of N and reshape to groups x N"
   ]
  },
  {
   "cell_type": "code",
   "execution_count": 3,
   "metadata": {},
   "outputs": [],
   "source": [
    "def randomSample(n,p,m):\n",
    "    # Random sample\n",
    "    positives = np.random.choice(range(n),m)\n",
    "    status = np.zeros(n)\n",
    "    status[positives] = 1\n",
    "    return status\n",
    "\n",
    "\n",
    "def prepareRun(status,n,p):\n",
    "    \"\"\"Set up parameters \"\"\"\n",
    "    # Set up parameters\n",
    "    T = np.exp(1)*p*np.log(0.734/p)\n",
    "    Nopt = round(0.35/p,0)\n",
    "    print(f'n = {n:,d}. Incidence = {p*100:.4f}%. Optimal group size if {Nopt}. Expected tests per person {T*100:.2f}%')\n",
    "    L = 3\n",
    "    D = int(round(np.log(Nopt)/np.log(L)))\n",
    "    N = int(L**D)\n",
    "    groups = int(np.ceil(n/N))\n",
    "    print(f'OK we are going to use a {groups:,d} groups of size {N} to process the {n:,d} samples')\n",
    "    status = np.append(status,np.zeros(int(groups*N-len(status)))).reshape(groups,N)\n",
    "    return status, D, L, N, groups\n"
   ]
  },
  {
   "cell_type": "markdown",
   "metadata": {},
   "source": [
    "## Stage 1 Test groups\n",
    "In each group, pool all samples and a perform a test. If this is negative, all members of that group are negative. This selects the groups were futher tests are required to identify individuals"
   ]
  },
  {
   "cell_type": "code",
   "execution_count": 4,
   "metadata": {},
   "outputs": [],
   "source": [
    "def initialScan(status,n,p):\n",
    "    positivesPool = status.sum(axis=1)>0\n",
    "    positiveGroups = np.arange(groups)[positivesPool]\n",
    "    totalTests = groups\n",
    "    print(f'In initial scan, {totalTests:,d} tests performed. Positives were found in {len(positiveGroups):,d} groups')\n",
    "    return status,D,L,N,positiveGroups,totalTests"
   ]
  },
  {
   "cell_type": "markdown",
   "metadata": {},
   "source": [
    "## Stage 2 Now perform hypercube slicing algorithm on each group containing one or more positive\n",
    "In this stage we think of the samples in each group as lying on a D-dimentional hypercube lattice with L points in each direction. The coordinates of the sample provide a base L, i.e. tertiary number, identifying the sample ID. \n",
    "- Slices are obtained by sequentially rolling the axes of the hypercube and taking the sum of all the elements of the slices in down axis=1. \n",
    "- There are LxD slices, resulting in LxD tests being performed\n",
    "- Slices are themselves hypercubes of dimension D-1\n",
    "- Every point on the lattice is contained in exactly D slices. So a single positive will make tests on D slices positive. These D slices uniquely identify the ID of the positive. \n",
    "    - For example for D=3 and L=3, we have a 3x3x3 lattice\n",
    "    - Slices from left to right match the tertiary unit column\n",
    "    - Slices from back to front match the teritary 3s column\n",
    "    - And slices from top to bottom match the tertiary 9s column\n",
    "    - Positives in slices 2,2,2 would result from sample 26 being positive"
   ]
  },
  {
   "cell_type": "markdown",
   "metadata": {},
   "source": [
    "The results are stored in a the *test* array of shape (D,L). We can think of the rows of *test* representing the results of pooled samples from slices in each dimension. The results are arranged to match the positions of the slices through the hypercube. The first row of *test* represents the units, the next row the 3s, the next row 9s etc. \n",
    "- For example a 3x3x3x3 cube, *test* will have 4 rows and 3 columns. \n",
    "- The number 59 in tertiary is 2102\n",
    "- The position of the 1 in each row ot *test* represents a tertiary digit, where the tertiary number is read upwards from the bottom\n",
    "- [[0 0 1] (position 2)\n",
    "-  [1 0 0] (position 0)\n",
    "-  [0 1 0] (position 1)\n",
    "-  [0 0 1]] (position 2)"
   ]
  },
  {
   "cell_type": "markdown",
   "metadata": {},
   "source": [
    "Create a couple of helper functions \n",
    "- convert pooled test result to an ID, this will be a uniquie ID if there are exactly D positive test results\n",
    "- convert a unique ID into a test result\n",
    "- and thirdly, create an important function to test all the slices in a hypercube lattice of samples"
   ]
  },
  {
   "cell_type": "code",
   "execution_count": 5,
   "metadata": {},
   "outputs": [],
   "source": [
    "def test2ID(test,L=3):\n",
    "    \"\"\"Function that converts a set of test results into an id\n",
    "    If there are exactly D positives, this will be the unique id of the infected sample\"\"\"\n",
    "    r,c = test.shape\n",
    "    # locator converts positive test results into a location by multiplying by powers of 3\n",
    "    locator = np.arange(L).reshape(1,L) * L**np.arange(r).reshape(r,1)\n",
    "    return int((test*locator).sum())\n",
    "\n",
    "def ID2test(ID,D,L=3):\n",
    "    \"\"\"Function that converts the id of a positive sample into the pooled test result,\n",
    "    as if it were the only positive in the group\"\"\"\n",
    "    \n",
    "    assert ID < L**D\n",
    "    testID = np.zeros((D,L))\n",
    "    # intitialise as the ID for zero\n",
    "    testID[:,0] = 1\n",
    "    # Generate teritary number and set that position to 1 in test\n",
    "    row = 0\n",
    "    while ID>0:\n",
    "        r = ID%L           # remainder on division by L\n",
    "        testID[row,0] = 0\n",
    "        testID[row,r] = 1\n",
    "        ID = ID//L\n",
    "        row += 1\n",
    "    return testID\n",
    "\n",
    "def testGroup(hypercube,L=3):\n",
    "    \"\"\"Take a D-dimentionsal hypercube lattice of samples and obtain result of testing each slice\n",
    "    In real life, this array of test results would be produced by the PCR testing machine\"\"\"\n",
    "    Dcube = hypercube.ndim\n",
    "    test = np.empty((Dcube,L))\n",
    "    for d in range(Dcube):\n",
    "        if Dcube>1:\n",
    "            hypercube = np.rollaxis(hypercube,-1)\n",
    "            test[d] = hypercube.sum(axis=1).reshape(3,-1).sum(axis=1)\n",
    "        else:\n",
    "            test[d]=hypercube\n",
    "    # Test can only be postive or negative even if more than one positive in a slice \n",
    "    test[test>1]=1\n",
    "    return test\n"
   ]
  },
  {
   "cell_type": "markdown",
   "metadata": {},
   "source": [
    "## Hypercube algorithm\n",
    "- This is the main algorithm. The next cell creates a random set of test results, size n, with indidence p.\n",
    "- The next cell implements the algoritm. Unfortunately the code gets a bit messy dealing with awkward, low-probability edge cases, where multiple positives happen to fall into one slice."
   ]
  },
  {
   "cell_type": "code",
   "execution_count": 6,
   "metadata": {},
   "outputs": [],
   "source": [
    "n = 1e6\n",
    "p = 1e-2\n",
    "m = n*p\n",
    "status=randomSample(int(n),p,int(m))"
   ]
  },
  {
   "cell_type": "code",
   "execution_count": 7,
   "metadata": {},
   "outputs": [
    {
     "name": "stdout",
     "output_type": "stream",
     "text": [
      "n = 1,000,000. Incidence = 1.0000%. Optimal group size if 35.0. Expected tests per person 11.68%\n",
      "OK we are going to use a 37,038 groups of size 27 to process the 1,000,000 samples\n",
      "In initial scan, 37,038 tests performed. Positives were found in 8,695 groups\n",
      "9,940 out of 9,940 found from a total of 122,423 tests performed for 1,000,000 individuals or 12.24%. \n",
      "Saving @ £30 per test  = £26,327,310\n",
      "0.0000% False Positives [] \n",
      "0.0000% False Negatives []\n"
     ]
    }
   ],
   "source": [
    "n=int(n)\n",
    "status=status.ravel()\n",
    "status, D, L, N, groups = prepareRun(status,n,p)\n",
    "\n",
    "\n",
    "status,D,L,N,positiveGroups,totalTests = initialScan(status,n,p)\n",
    "\n",
    "positivesFound = []\n",
    "\n",
    "for g in positiveGroups:\n",
    "    #print(f'Performing {int(N/L)} tests on group {g}')\n",
    "    # newSlice keeps track of the positions of the samples in the hypercube lattice\n",
    "    # initially newSlice tracks all the samples in status[g]\n",
    "    pool = status[g]\n",
    "    newSlice = np.arange(len(pool)).reshape([3]*D)\n",
    "    \n",
    "    hypercube = pool[newSlice]\n",
    "    test = testGroup(hypercube)\n",
    "    totalTests += L**(hypercube.ndim-1)\n",
    "    \n",
    "    # Check for single positive test\n",
    "    if test.sum() == hypercube.ndim:\n",
    "        groupPositive = newSlice.ravel()[test2ID(test)]\n",
    "        positivesFound += [groupPositive + g*N]\n",
    "        #print(f'Positive case identified for individual number {int(samplePositive)} found in group {g} ')\n",
    "    else:\n",
    "        #      More than one positive in group g\n",
    "        # Find principle axis with max number of postive slices, princDir\n",
    "        positiveSlices=(test>0).sum(axis=1)\n",
    "        # Choose a direction with the highest number of positive slices\n",
    "        princDir = np.argmax(positiveSlices)\n",
    "        # Make a list of axes locating positive slices\n",
    "        princAxes = np.where(test[princDir]==1)[0]\n",
    "\n",
    "        # Now try to find unique positives in each slice\n",
    "        # Iterate through poistive slices in the next dimension down\n",
    "        for princAxis in princAxes:\n",
    "            # Track samples included in this slice\n",
    "            tracker = np.arange(len(pool)).reshape([3]*hypercube.ndim)\n",
    "            tracker = np.rollaxis(tracker,-1)\n",
    "            for i in range(princDir):\n",
    "                tracker = np.rollaxis(tracker,-1)\n",
    "            newSlice = tracker[princAxis]\n",
    "\n",
    "            # Apply hypercube again to newSlice of this sample\n",
    "            hypercube2 = pool[newSlice]\n",
    "            test2 = testGroup(hypercube2)\n",
    "            totalTests += L**(hypercube2.ndim-1)\n",
    "            \n",
    "            # Check for single positive test\n",
    "            if test2.sum()==hypercube2.ndim:\n",
    "                # found a positive \n",
    "                newPositive = newSlice.ravel()[test2ID(test2)]\n",
    "                if newPositive + g*N not in positivesFound:\n",
    "                    positivesFound += [newPositive + g*N]\n",
    "            else:\n",
    "                # More than 2 positives in group {g} so now recursively search sub-slices\n",
    "                # It would be a lot neater to do this as a recursive call\n",
    "                positiveSlices2=(test2>0).sum(axis=1)\n",
    "                princDir2 = np.argmax(positiveSlices2)\n",
    "                princAxes2 = np.where(test2[princDir2]==1)[0]\n",
    "\n",
    "                # Iterate though positives slices in next dimension down\n",
    "                for princAxis2 in princAxes2:\n",
    "                    # Track samples included in this slice\n",
    "                    tracker = np.arange(newSlice.size).reshape([3]*hypercube2.ndim)\n",
    "                    tracker = np.rollaxis(tracker,-1)\n",
    "                    for i in range(princDir2):\n",
    "                        tracker = np.rollaxis(tracker,-1)\n",
    "                    newSlice2 = tracker[princAxis2]\n",
    "                    if D>2:\n",
    "                        # Apply hypercube again to newSlice of this sample, only for groups where D>2\n",
    "                        test3 = testGroup(pool[newSlice.ravel()[newSlice2]])\n",
    "                        totalTests += L**(D-3)\n",
    "                        if test3.sum()==(D-2):\n",
    "                            # found a positive \n",
    "                            newPositive = newSlice.ravel()[newSlice2.ravel()[test2ID(test3)]]\n",
    "                            if newPositive + g*N not in positivesFound:\n",
    "                                positivesFound += [newPositive + g*N]\n",
    "                        elif test3.sum()>D-2:\n",
    "                            # Check every sample in this slice\n",
    "                            for i in newSlice.ravel()[newSlice2]:\n",
    "                                totalTests += 1\n",
    "                                if status[g][i]:\n",
    "                                    newPositive = i\n",
    "                                    if newPositive + g*N not in positivesFound:\n",
    "                                        positivesFound += [newPositive + g*N]\n",
    "                                                        \n",
    "                    else:\n",
    "                        # Multiple positives in this low diminsional slice, so go through one by one\n",
    "                        # Because you can't slice any further\n",
    "                        totalTests += newSlice.size\n",
    "                        for i in newSlice.ravel():\n",
    "                            if status[g][i]:\n",
    "                                newPositive = i\n",
    "                                if newPositive + g*N not in positivesFound:\n",
    "                                    positivesFound += [newPositive + g*N]\n",
    "\n",
    "            \n",
    "#print(f'{status.sum()} True positives {np.where(status.ravel()==1)}')\n",
    "print(f'{len(positivesFound):,d} out of {int(status.sum()):,d} found from a total of {int(totalTests):,d} tests performed for {n:,d} individuals or {totalTests/n*100:.2f}%. \\nSaving @ £30 per test  = £{int(n-totalTests)*30:,d}')\n",
    "FP = set(positivesFound)-set(np.where(status.ravel()==1)[0])\n",
    "FN= set(np.where(status.ravel()==1)[0])-set(positivesFound)\n",
    "print(f'{len(FP)/n*100:.4f}% False Positives {sorted(list(FP))} \\n{len(FN)/n*100:.4f}% False Negatives {sorted(list(FN))}')\n",
    "\n"
   ]
  },
  {
   "cell_type": "code",
   "execution_count": null,
   "metadata": {},
   "outputs": [],
   "source": []
  }
 ],
 "metadata": {
  "kernelspec": {
   "display_name": "Python 3",
   "language": "python",
   "name": "python3"
  },
  "language_info": {
   "codemirror_mode": {
    "name": "ipython",
    "version": 3
   },
   "file_extension": ".py",
   "mimetype": "text/x-python",
   "name": "python",
   "nbconvert_exporter": "python",
   "pygments_lexer": "ipython3",
   "version": "3.7.2"
  }
 },
 "nbformat": 4,
 "nbformat_minor": 2
}
